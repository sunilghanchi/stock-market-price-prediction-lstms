{
 "cells": [
  {
   "cell_type": "markdown",
   "id": "f78b8d66",
   "metadata": {},
   "source": [
    "# Stock Market Price Prediction using LSTMs"
   ]
  },
  {
   "cell_type": "code",
   "execution_count": null,
   "id": "caba22e2",
   "metadata": {},
   "outputs": [],
   "source": [
    "from pandas_datareader import data as pdr\n",
    "import yfinance as yf\n",
    "yf.pdr_override()"
   ]
  },
  {
   "cell_type": "code",
   "execution_count": null,
   "id": "ab4c8476",
   "metadata": {},
   "outputs": [],
   "source": [
    "df = pdr.get_data_yahoo('SALASAR.NS')"
   ]
  },
  {
   "cell_type": "code",
   "execution_count": null,
   "id": "3ac8582d",
   "metadata": {},
   "outputs": [],
   "source": [
    "df.to_csv('SALASAR.csv')"
   ]
  },
  {
   "cell_type": "code",
   "execution_count": null,
   "id": "1c8a44e5",
   "metadata": {},
   "outputs": [],
   "source": [
    "import pandas as pd\n",
    "import numpy as np"
   ]
  },
  {
   "cell_type": "code",
   "execution_count": null,
   "id": "bd6f317a",
   "metadata": {},
   "outputs": [],
   "source": [
    "df = pd.read_csv('SALASAR.csv')"
   ]
  },
  {
   "cell_type": "code",
   "execution_count": null,
   "id": "cf62ce8f",
   "metadata": {},
   "outputs": [],
   "source": [
    "df"
   ]
  },
  {
   "cell_type": "code",
   "execution_count": null,
   "id": "a8203734",
   "metadata": {},
   "outputs": [],
   "source": [
    "df2 = df.reset_index()['Close']"
   ]
  },
  {
   "cell_type": "code",
   "execution_count": null,
   "id": "4200bf25",
   "metadata": {},
   "outputs": [],
   "source": [
    "df2"
   ]
  },
  {
   "cell_type": "code",
   "execution_count": null,
   "id": "333483e8",
   "metadata": {},
   "outputs": [],
   "source": [
    "df2.shape"
   ]
  },
  {
   "cell_type": "code",
   "execution_count": null,
   "id": "de5fbe9e",
   "metadata": {},
   "outputs": [],
   "source": [
    "import matplotlib.pyplot as plt"
   ]
  },
  {
   "cell_type": "code",
   "execution_count": null,
   "id": "08d9b464",
   "metadata": {},
   "outputs": [],
   "source": [
    "plt.plot(df2)\n",
    "plt.xlabel('Days')\n",
    "plt.ylabel('Close Price')\n",
    "plt.title('Salasar Techno')\n",
    "plt.show()"
   ]
  },
  {
   "cell_type": "code",
   "execution_count": null,
   "id": "931a8b65",
   "metadata": {},
   "outputs": [],
   "source": [
    "from sklearn.preprocessing import MinMaxScaler"
   ]
  },
  {
   "cell_type": "code",
   "execution_count": null,
   "id": "29c0267b",
   "metadata": {},
   "outputs": [],
   "source": [
    "mm = MinMaxScaler(feature_range=(0,1))"
   ]
  },
  {
   "cell_type": "code",
   "execution_count": null,
   "id": "6ac9ef94",
   "metadata": {},
   "outputs": [],
   "source": [
    "df2 = mm.fit_transform(np.array(df2).reshape(-1,1)) "
   ]
  },
  {
   "cell_type": "code",
   "execution_count": null,
   "id": "bd4ad4df",
   "metadata": {},
   "outputs": [],
   "source": [
    "df2"
   ]
  },
  {
   "cell_type": "code",
   "execution_count": null,
   "id": "d1086b49",
   "metadata": {},
   "outputs": [],
   "source": [
    "training_size = int(len(df2)*0.7)\n",
    "test_size = len(df2) - training_size"
   ]
  },
  {
   "cell_type": "code",
   "execution_count": null,
   "id": "397174e5",
   "metadata": {},
   "outputs": [],
   "source": [
    "training_size"
   ]
  },
  {
   "cell_type": "code",
   "execution_count": null,
   "id": "aaffc845",
   "metadata": {},
   "outputs": [],
   "source": [
    "test_size"
   ]
  },
  {
   "cell_type": "code",
   "execution_count": null,
   "id": "9d7b1508",
   "metadata": {},
   "outputs": [],
   "source": [
    "train_data,test_data = df2[:training_size,:],df2[training_size:len(df2),:1]"
   ]
  },
  {
   "cell_type": "code",
   "execution_count": null,
   "id": "1f6c153a",
   "metadata": {},
   "outputs": [],
   "source": [
    "train_data"
   ]
  },
  {
   "cell_type": "code",
   "execution_count": null,
   "id": "959964e8",
   "metadata": {},
   "outputs": [],
   "source": [
    "test_data"
   ]
  },
  {
   "cell_type": "code",
   "execution_count": null,
   "id": "1b707d7b",
   "metadata": {},
   "outputs": [],
   "source": [
    "def create_dataset(dataset, time_stemp=1):\n",
    "    xdata,ydata = [], []\n",
    "    for i in range(len(dataset)-time_stemp-1):\n",
    "        a = dataset[i:(i+time_stemp),0]\n",
    "        xdata.append(a)\n",
    "        ydata.append(dataset[i+time_stemp,0])\n",
    "    return np.array(xdata), np.array(ydata)"
   ]
  },
  {
   "cell_type": "code",
   "execution_count": null,
   "id": "48e4193a",
   "metadata": {},
   "outputs": [],
   "source": [
    "batch = 200"
   ]
  },
  {
   "cell_type": "code",
   "execution_count": null,
   "id": "072ef3e0",
   "metadata": {},
   "outputs": [],
   "source": [
    "time_stemp = batch\n",
    "x_train, y_train = create_dataset(train_data, time_stemp)\n",
    "x_test, y_test = create_dataset(test_data, time_stemp)"
   ]
  },
  {
   "cell_type": "code",
   "execution_count": null,
   "id": "b8de48df",
   "metadata": {},
   "outputs": [],
   "source": [
    "x_train, y_train"
   ]
  },
  {
   "cell_type": "code",
   "execution_count": null,
   "id": "b04b9b8e",
   "metadata": {},
   "outputs": [],
   "source": [
    "len(x_train)"
   ]
  },
  {
   "cell_type": "code",
   "execution_count": null,
   "id": "56b0f132",
   "metadata": {},
   "outputs": [],
   "source": [
    "len(x_test)"
   ]
  },
  {
   "cell_type": "code",
   "execution_count": null,
   "id": "fed62c1e",
   "metadata": {},
   "outputs": [],
   "source": [
    "x_train = x_train.reshape(x_train.shape[0], x_train.shape[1], 1)\n",
    "x_test = x_test.reshape(x_test.shape[0], x_test.shape[1], 1)"
   ]
  },
  {
   "cell_type": "code",
   "execution_count": null,
   "id": "ebeac197",
   "metadata": {},
   "outputs": [],
   "source": [
    "import tensorflow as tf\n",
    "from keras.models import Sequential\n",
    "from keras.layers import LSTM, Dense"
   ]
  },
  {
   "cell_type": "code",
   "execution_count": null,
   "id": "f453b495",
   "metadata": {},
   "outputs": [],
   "source": [
    "model = Sequential()\n",
    "\n",
    "model.add(LSTM(50, return_sequences=True, input_shape=(200,1)))\n",
    "model.add(LSTM(50, return_sequences=True))\n",
    "model.add(LSTM(50))\n",
    "model.add(Dense(1))"
   ]
  },
  {
   "cell_type": "code",
   "execution_count": null,
   "id": "3afa69ba",
   "metadata": {},
   "outputs": [],
   "source": [
    "model.compile(optimizer='Adam', loss='mean_squared_error')"
   ]
  },
  {
   "cell_type": "code",
   "execution_count": null,
   "id": "e74dea28",
   "metadata": {},
   "outputs": [],
   "source": [
    "model.summary()"
   ]
  },
  {
   "cell_type": "code",
   "execution_count": null,
   "id": "ec51283a",
   "metadata": {},
   "outputs": [],
   "source": [
    "model.fit(x_train,y_train,validation_data=(x_test,y_test),epochs=100,batch_size=64)"
   ]
  },
  {
   "cell_type": "code",
   "execution_count": null,
   "id": "7faea620",
   "metadata": {},
   "outputs": [],
   "source": [
    "train_predict = model.predict(x_train)\n",
    "test_predict = model.predict(x_test)"
   ]
  },
  {
   "cell_type": "code",
   "execution_count": null,
   "id": "762a46e3",
   "metadata": {},
   "outputs": [],
   "source": [
    "train_predict = mm.inverse_transform(train_predict)\n",
    "test_predict = mm.inverse_transform(test_predict)"
   ]
  },
  {
   "cell_type": "code",
   "execution_count": null,
   "id": "6cd84145",
   "metadata": {},
   "outputs": [],
   "source": [
    "import math\n",
    "from sklearn.metrics import mean_squared_error"
   ]
  },
  {
   "cell_type": "code",
   "execution_count": null,
   "id": "26277190",
   "metadata": {},
   "outputs": [],
   "source": [
    "math.sqrt(mean_squared_error(y_train,train_predict))"
   ]
  },
  {
   "cell_type": "code",
   "execution_count": null,
   "id": "2304f801",
   "metadata": {},
   "outputs": [],
   "source": [
    "math.sqrt(mean_squared_error(y_test,test_predict))"
   ]
  },
  {
   "cell_type": "code",
   "execution_count": null,
   "id": "58af391b",
   "metadata": {},
   "outputs": [],
   "source": [
    "look_back = batch\n",
    "trainpredictplot = np.empty_like(df2)\n",
    "trainpredictplot[:,:] = np.nan\n",
    "trainpredictplot[look_back:len(train_predict)+look_back,:] = train_predict\n",
    "\n",
    "testpredictplot = np.empty_like(df2)\n",
    "testpredictplot[:,:] = np.nan\n",
    "testpredictplot[len(train_predict)+(look_back*2)+1:len(df2)-1,:] = test_predict\n",
    "\n",
    "plt.plot(mm.inverse_transform(df2))\n",
    "plt.plot(trainpredictplot)\n",
    "plt.plot(testpredictplot)\n",
    "plt.show()"
   ]
  },
  {
   "cell_type": "code",
   "execution_count": null,
   "id": "e8faeb76",
   "metadata": {},
   "outputs": [],
   "source": [
    "len(test_data)"
   ]
  },
  {
   "cell_type": "code",
   "execution_count": null,
   "id": "e1383138",
   "metadata": {},
   "outputs": [],
   "source": [
    "x_input = test_data[290:].reshape(-1,1)"
   ]
  },
  {
   "cell_type": "code",
   "execution_count": null,
   "id": "69d691ac",
   "metadata": {},
   "outputs": [],
   "source": [
    "x_input.shape"
   ]
  },
  {
   "cell_type": "code",
   "execution_count": null,
   "id": "e1b7bfd5",
   "metadata": {},
   "outputs": [],
   "source": [
    "temp_input = list(x_input)"
   ]
  },
  {
   "cell_type": "code",
   "execution_count": null,
   "id": "178a4a8f",
   "metadata": {},
   "outputs": [],
   "source": [
    "temp_input = [array[0] for array in temp_input]"
   ]
  },
  {
   "cell_type": "code",
   "execution_count": null,
   "id": "4d4674dc",
   "metadata": {},
   "outputs": [],
   "source": [
    "temp_input"
   ]
  },
  {
   "cell_type": "code",
   "execution_count": null,
   "id": "a4056d44",
   "metadata": {},
   "outputs": [],
   "source": [
    "from numpy import array\n",
    "\n",
    "lst_output=[]\n",
    "n_steps=207\n",
    "i=0\n",
    "while(i<30):\n",
    "    \n",
    "    if(len(temp_input)>200):\n",
    "        x_input=np.array(temp_input[1:])\n",
    "        print(\"{} day input {}\".format(i,x_input))\n",
    "        x_input=x_input.reshape(1,-1)\n",
    "        x_input = x_input.reshape((1, n_steps, 1))\n",
    "        yhat = model.predict(x_input, verbose=0)\n",
    "        print(\"{} day output {}\".format(i,yhat))\n",
    "        temp_input.extend(yhat[0].tolist())\n",
    "        temp_input=temp_input[1:]\n",
    "        lst_output.extend(yhat.tolist())\n",
    "        i=i+1\n",
    "    else:\n",
    "        x_input = x_input.reshape((1, n_steps,1))\n",
    "        yhat = model.predict(x_input, verbose=0)\n",
    "        print(yhat[0])\n",
    "        temp_input.extend(yhat[0].tolist())\n",
    "        print(len(temp_input))\n",
    "        lst_output.extend(yhat.tolist())\n",
    "        i=i+1\n",
    "    \n",
    "\n",
    "print(lst_output)"
   ]
  },
  {
   "cell_type": "code",
   "execution_count": null,
   "id": "5d4a767e",
   "metadata": {},
   "outputs": [],
   "source": [
    "day_new=np.arange(1,201)\n",
    "day_pred=np.arange(201,231)"
   ]
  },
  {
   "cell_type": "code",
   "execution_count": null,
   "id": "5b62862b",
   "metadata": {},
   "outputs": [],
   "source": [
    "num1 = len(df2) - batch"
   ]
  },
  {
   "cell_type": "code",
   "execution_count": null,
   "id": "e85d2647",
   "metadata": {},
   "outputs": [],
   "source": [
    "num1"
   ]
  },
  {
   "cell_type": "code",
   "execution_count": null,
   "id": "ec7db89d",
   "metadata": {},
   "outputs": [],
   "source": [
    "plt.plot(day_new,mm.inverse_transform(df2[num1:]))\n",
    "plt.plot(day_pred,mm.inverse_transform(lst_output))"
   ]
  },
  {
   "cell_type": "code",
   "execution_count": null,
   "id": "d3243160",
   "metadata": {},
   "outputs": [],
   "source": [
    "df3=df2.tolist()\n",
    "df3.extend(lst_output)\n",
    "plt.plot(df3[num1 + 100:])"
   ]
  },
  {
   "cell_type": "code",
   "execution_count": null,
   "id": "9723028e",
   "metadata": {},
   "outputs": [],
   "source": [
    "df3=mm.inverse_transform(df3).tolist()"
   ]
  },
  {
   "cell_type": "code",
   "execution_count": null,
   "id": "e8330d07",
   "metadata": {},
   "outputs": [],
   "source": [
    "plt.plot(df3)"
   ]
  },
  {
   "cell_type": "code",
   "execution_count": null,
   "id": "b580c1a1",
   "metadata": {},
   "outputs": [],
   "source": [
    "plt.plot(df3[len(df2):])"
   ]
  },
  {
   "cell_type": "code",
   "execution_count": null,
   "id": "8df5fe75",
   "metadata": {},
   "outputs": [],
   "source": [
    "from keras.models import load_model"
   ]
  },
  {
   "cell_type": "code",
   "execution_count": null,
   "id": "1d05e79f",
   "metadata": {},
   "outputs": [],
   "source": [
    "# model.save('salasarmodel')"
   ]
  },
  {
   "cell_type": "code",
   "execution_count": null,
   "id": "414bd0d5",
   "metadata": {},
   "outputs": [],
   "source": []
  }
 ],
 "metadata": {
  "kernelspec": {
   "display_name": "Python 3 (ipykernel)",
   "language": "python",
   "name": "python3"
  },
  "language_info": {
   "codemirror_mode": {
    "name": "ipython",
    "version": 3
   },
   "file_extension": ".py",
   "mimetype": "text/x-python",
   "name": "python",
   "nbconvert_exporter": "python",
   "pygments_lexer": "ipython3",
   "version": "3.11.5"
  }
 },
 "nbformat": 4,
 "nbformat_minor": 5
}
